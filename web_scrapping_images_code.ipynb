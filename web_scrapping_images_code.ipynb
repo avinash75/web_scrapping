{
 "cells": [
  {
   "cell_type": "code",
   "execution_count": null,
   "metadata": {},
   "outputs": [],
   "source": [
    "! pip install selenium"
   ]
  },
  {
   "cell_type": "code",
   "execution_count": null,
   "metadata": {},
   "outputs": [],
   "source": [
    "import os\n",
    "\n",
    "import requests as r\n",
    "from bs4 import BeautifulSoup\n",
    "from datetime import datetime\n",
    "import selenium\n",
    "from selenium import webdriver\n",
    "\n",
    "#opening the chrome.\n",
    "driver=webdriver.Chrome(r\"C:\\Users\\Lenovo\\Downloads\\chromedriver.exe\")\n",
    "\n",
    "# Request data from desired url\n",
    "driver.get('https://www.flipkart.com/search?q=jeans%20for%20men&otracker=search&otracker1=search&marketplace=FLIPKART&as-show=on&as=off')\n",
    "\n",
    "\n",
    "# source the images link which is to be downloaded\n",
    "x = driver.find_elements_by_xpath('//img[@class=\"_3togXc\"]')\n",
    "\n",
    "print(x)"
   ]
  },
  {
   "cell_type": "code",
   "execution_count": null,
   "metadata": {},
   "outputs": [],
   "source": [
    "# generate links from the which the images are to be downloaded\n",
    "links = []\n",
    "for img in x:\n",
    "    links.append(img.get_attribute(\"src\"\n",
    "                                  \n",
    "                                  ))\n",
    "links"
   ]
  },
  {
   "cell_type": "code",
   "execution_count": null,
   "metadata": {},
   "outputs": [],
   "source": [
    "\n",
    "# Create directory where the downloaded images are to be written\n",
    "path = 'photos2'\n",
    "isDir = os.path.isdir(path)\n",
    "if isDir:\n",
    "    print('Required directory is already available. Skipping folder creation..\\n')\n",
    "else:\n",
    "    print('Creating a directory\\n')\n",
    "    os.mkdir('photos2')\n",
    "\n",
    "# Retrieves date time in the format index_month_date_year_hours:minutes:seconds_am/pm\n",
    "#now = datetime.now()\n",
    "#dt_string = now.strftime(\"%B_%d_%Y_%I:%M:%S_%p\")\n",
    "\n",
    "# Generate and save only up to 10 images\n",
    "i = 1\n",
    "for index, img_link in enumerate(links):\n",
    "    if i <= 40:\n",
    "        print(f'Generating file {i}.jpg')\n",
    "        img_data = r.get(img_link).content\n",
    "        with open(\"C:/Users/Lenovo/Downloads/photos2/\" + str(index + 1) + '.jpg', 'wb+') as f:\n",
    "            f.write(img_data)\n",
    "        i += 1\n",
    "        print(i)\n",
    "    else:\n",
    "        break"
   ]
  },
  {
   "cell_type": "code",
   "execution_count": null,
   "metadata": {},
   "outputs": [],
   "source": []
  }
 ],
 "metadata": {
  "kernelspec": {
   "display_name": "Python 3",
   "language": "python",
   "name": "python3"
  },
  "language_info": {
   "codemirror_mode": {
    "name": "ipython",
    "version": 3
   },
   "file_extension": ".py",
   "mimetype": "text/x-python",
   "name": "python",
   "nbconvert_exporter": "python",
   "pygments_lexer": "ipython3",
   "version": "3.7.6"
  }
 },
 "nbformat": 4,
 "nbformat_minor": 4
}
